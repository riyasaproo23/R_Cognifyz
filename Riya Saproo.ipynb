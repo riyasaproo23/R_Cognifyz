{
 "cells": [
  {
   "cell_type": "markdown",
   "id": "e228fe46-73d0-4310-8249-12051f33a752",
   "metadata": {},
   "source": [
    "# Level 1 \n",
    "# Task 1 : Data Overview"
   ]
  },
  {
   "cell_type": "markdown",
   "id": "b6c42698-f503-4bd7-865f-24563f10e9ee",
   "metadata": {},
   "source": [
    "\n",
    "Objective: Understand the dataset structure."
   ]
  },
  {
   "cell_type": "code",
   "execution_count": 19,
   "id": "3c3a1c3f-ac26-40b7-96c2-6ca9947c61f9",
   "metadata": {},
   "outputs": [],
   "source": [
    "#load Dataset with pandas\n",
    "import pandas as pd\n",
    "df = pd.read_csv(\"Data_set 2 - Copy.csv\")"
   ]
  },
  {
   "cell_type": "code",
   "execution_count": 20,
   "id": "7ef57b04-93d4-4552-b23e-0c92e711b62b",
   "metadata": {},
   "outputs": [
    {
     "name": "stdout",
     "output_type": "stream",
     "text": [
      "<class 'pandas.core.frame.DataFrame'>\n",
      "RangeIndex: 40 entries, 0 to 39\n",
      "Data columns (total 24 columns):\n",
      " #   Column                             Non-Null Count  Dtype \n",
      "---  ------                             --------------  ----- \n",
      " 0   gender                             40 non-null     object\n",
      " 1   age                                40 non-null     int64 \n",
      " 2   Investment_Avenues                 40 non-null     object\n",
      " 3   Mutual_Funds                       40 non-null     int64 \n",
      " 4   Equity_Market                      40 non-null     int64 \n",
      " 5   Debentures                         40 non-null     int64 \n",
      " 6   Government_Bonds                   40 non-null     int64 \n",
      " 7   Fixed_Deposits                     40 non-null     int64 \n",
      " 8   PPF                                40 non-null     int64 \n",
      " 9   Gold                               40 non-null     int64 \n",
      " 10  Stock_Marktet                      40 non-null     object\n",
      " 11  Factor                             40 non-null     object\n",
      " 12  Objective                          40 non-null     object\n",
      " 13  Purpose                            40 non-null     object\n",
      " 14  Duration                           40 non-null     object\n",
      " 15  Invest_Monitor                     40 non-null     object\n",
      " 16  Expect                             40 non-null     object\n",
      " 17  Avenue                             40 non-null     object\n",
      " 18  What are your savings objectives?  40 non-null     object\n",
      " 19  Reason_Equity                      40 non-null     object\n",
      " 20  Reason_Mutual                      40 non-null     object\n",
      " 21  Reason_Bonds                       40 non-null     object\n",
      " 22  Reason_FD                          40 non-null     object\n",
      " 23  Source                             40 non-null     object\n",
      "dtypes: int64(8), object(16)\n",
      "memory usage: 7.6+ KB\n"
     ]
    }
   ],
   "source": [
    "#Descriptive Statistics: Use descriptive functions (e.g., info() in pandas) to gather information about the number of entries,columns, and data types.\n",
    "#total rows: 40\n",
    "#total column: 24\n",
    "#info() function is used for this \n",
    "df.info()"
   ]
  },
  {
   "cell_type": "code",
   "execution_count": 21,
   "id": "2b86cae8-5243-4246-99e8-1b057d2e3990",
   "metadata": {},
   "outputs": [
    {
     "data": {
      "text/plain": [
       "gender                               object\n",
       "age                                   int64\n",
       "Investment_Avenues                   object\n",
       "Mutual_Funds                          int64\n",
       "Equity_Market                         int64\n",
       "Debentures                            int64\n",
       "Government_Bonds                      int64\n",
       "Fixed_Deposits                        int64\n",
       "PPF                                   int64\n",
       "Gold                                  int64\n",
       "Stock_Marktet                        object\n",
       "Factor                               object\n",
       "Objective                            object\n",
       "Purpose                              object\n",
       "Duration                             object\n",
       "Invest_Monitor                       object\n",
       "Expect                               object\n",
       "Avenue                               object\n",
       "What are your savings objectives?    object\n",
       "Reason_Equity                        object\n",
       "Reason_Mutual                        object\n",
       "Reason_Bonds                         object\n",
       "Reason_FD                            object\n",
       "Source                               object\n",
       "dtype: object"
      ]
     },
     "execution_count": 21,
     "metadata": {},
     "output_type": "execute_result"
    }
   ],
   "source": [
    "df.dtypes"
   ]
  },
  {
   "cell_type": "markdown",
   "id": "3f9896da-e7f4-4b4f-a73f-1c0996dce2a5",
   "metadata": {},
   "source": [
    "# Task 2: Gender Distribution\n",
    "\n",
    "Objective: Visualize gender distribution in\n",
    "the dataset."
   ]
  },
  {
   "cell_type": "code",
   "execution_count": 22,
   "id": "f7a95371-1faa-4200-a436-e9183f9c1da7",
   "metadata": {},
   "outputs": [
    {
     "data": {
      "text/plain": [
       "gender\n",
       "Male      25\n",
       "Female    15\n",
       "Name: count, dtype: int64"
      ]
     },
     "execution_count": 22,
     "metadata": {},
     "output_type": "execute_result"
    }
   ],
   "source": [
    "#Extract Gender Information\n",
    "#to do this i m selecting 'gender' column from dataset and value_counts() : how many times each gender appears in the dataset\n",
    "df['gender'].value_counts()"
   ]
  },
  {
   "cell_type": "code",
   "execution_count": 23,
   "id": "1c8485e6-ebc9-4453-b0b3-9fa5b0737e9f",
   "metadata": {},
   "outputs": [],
   "source": [
    "#Visualization\n",
    "#two types of chart to  be created : bar chart and pie chart\n",
    "#to create bar chart i have used Matplotlib ( shows number of male and female)\n",
    "import matplotlib.pyplot as plt\n",
    "gender_counts =df['gender'].value_counts()"
   ]
  },
  {
   "cell_type": "code",
   "execution_count": 24,
   "id": "c0f3e182-cab2-447b-9d14-9e2b24d1831c",
   "metadata": {},
   "outputs": [
    {
     "data": {
      "image/png": "[encoded data removed]",
      "text/plain": [
       "<Figure size 640x480 with 1 Axes>"
      ]
     },
     "metadata": {},
     "output_type": "display_data"
    }
   ],
   "source": [
    "#creating bar chart\n",
    "gender_counts.plot(kind='bar', color=['pink', 'blue'])\n",
    "plt.title('Gender distribution')\n",
    "plt.xlabel('Gender')\n",
    "plt.ylabel('Number of respondants')\n",
    "plt.xticks(rotation=0)\n",
    "plt.show()"
   ]
  },
  {
   "cell_type": "code",
   "execution_count": 25,
   "id": "ee968796-bf65-48af-9ca0-2f2e134d80f6",
   "metadata": {},
   "outputs": [
    {
     "data": {
      "image/png": "[encoded data removed]",
      "text/plain": [
       "<Figure size 640x480 with 1 Axes>"
      ]
     },
     "metadata": {},
     "output_type": "display_data"
    }
   ],
   "source": [
    "#creating pie chart\n",
    "gender_counts.plot.pie(autopct='%1.1f%%', colors= ['yellow', 'green'])\n",
    "#autopct='%1.1f%%' percentage label appearing on pie chart\n",
    "plt.title('Gender distribution')\n",
    "plt.show()\n"
   ]
  },
  {
   "cell_type": "markdown",
   "id": "3c5e4ad6-df32-433d-87bf-652fdfa59964",
   "metadata": {},
   "source": [
    "# Level 2\n",
    "# Task 3 Discriptive statistics"
   ]
  },
  {
   "cell_type": "markdown",
   "id": "af01c1a0-6991-4978-80b3-36877601c4af",
   "metadata": {},
   "source": [
    "\n",
    "Objective: Present basic statistics for\n",
    "numerical columns."
   ]
  },
  {
   "cell_type": "code",
   "execution_count": 26,
   "id": "c77f6cda-aeea-4806-8896-08cd1f8f6721",
   "metadata": {},
   "outputs": [
    {
     "data": {
      "text/plain": [
       "Index(['age', 'Mutual_Funds', 'Equity_Market', 'Debentures',\n",
       "       'Government_Bonds', 'Fixed_Deposits', 'PPF', 'Gold'],\n",
       "      dtype='object')"
      ]
     },
     "execution_count": 26,
     "metadata": {},
     "output_type": "execute_result"
    }
   ],
   "source": [
    "#Identify Numerical Columns: Review the dataset to identify columns containing numerical data (e.g., age, income)\n",
    "#to do this we can use select_dtypes() with number \n",
    "df.select_dtypes(include='number').columns\n"
   ]
  },
  {
   "cell_type": "code",
   "execution_count": 27,
   "id": "3c54b89b-b2f8-4603-896d-cf54998deb5e",
   "metadata": {},
   "outputs": [
    {
     "data": {
      "text/html": [
       "<div>\n",
       "<style scoped>\n",
       "    .dataframe tbody tr th:only-of-type {\n",
       "        vertical-align: middle;\n",
       "    }\n",
       "\n",
       "    .dataframe tbody tr th {\n",
       "        vertical-align: top;\n",
       "    }\n",
       "\n",
       "    .dataframe thead th {\n",
       "        text-align: right;\n",
       "    }\n",
       "</style>\n",
       "<table border=\"1\" class=\"dataframe\">\n",
       "  <thead>\n",
       "    <tr style=\"text-align: right;\">\n",
       "      <th></th>\n",
       "      <th>age</th>\n",
       "      <th>Mutual_Funds</th>\n",
       "      <th>Equity_Market</th>\n",
       "      <th>Debentures</th>\n",
       "      <th>Government_Bonds</th>\n",
       "      <th>Fixed_Deposits</th>\n",
       "      <th>PPF</th>\n",
       "      <th>Gold</th>\n",
       "    </tr>\n",
       "  </thead>\n",
       "  <tbody>\n",
       "    <tr>\n",
       "      <th>count</th>\n",
       "      <td>40.000000</td>\n",
       "      <td>40.000000</td>\n",
       "      <td>40.000000</td>\n",
       "      <td>40.000000</td>\n",
       "      <td>40.000000</td>\n",
       "      <td>40.000000</td>\n",
       "      <td>40.000000</td>\n",
       "      <td>40.000000</td>\n",
       "    </tr>\n",
       "    <tr>\n",
       "      <th>mean</th>\n",
       "      <td>27.800000</td>\n",
       "      <td>2.550000</td>\n",
       "      <td>3.475000</td>\n",
       "      <td>5.750000</td>\n",
       "      <td>4.650000</td>\n",
       "      <td>3.575000</td>\n",
       "      <td>2.025000</td>\n",
       "      <td>5.975000</td>\n",
       "    </tr>\n",
       "    <tr>\n",
       "      <th>std</th>\n",
       "      <td>3.560467</td>\n",
       "      <td>1.197219</td>\n",
       "      <td>1.131994</td>\n",
       "      <td>1.675617</td>\n",
       "      <td>1.369072</td>\n",
       "      <td>1.795828</td>\n",
       "      <td>1.609069</td>\n",
       "      <td>1.143263</td>\n",
       "    </tr>\n",
       "    <tr>\n",
       "      <th>min</th>\n",
       "      <td>21.000000</td>\n",
       "      <td>1.000000</td>\n",
       "      <td>1.000000</td>\n",
       "      <td>1.000000</td>\n",
       "      <td>1.000000</td>\n",
       "      <td>1.000000</td>\n",
       "      <td>1.000000</td>\n",
       "      <td>2.000000</td>\n",
       "    </tr>\n",
       "    <tr>\n",
       "      <th>25%</th>\n",
       "      <td>25.750000</td>\n",
       "      <td>2.000000</td>\n",
       "      <td>3.000000</td>\n",
       "      <td>5.000000</td>\n",
       "      <td>4.000000</td>\n",
       "      <td>2.750000</td>\n",
       "      <td>1.000000</td>\n",
       "      <td>6.000000</td>\n",
       "    </tr>\n",
       "    <tr>\n",
       "      <th>50%</th>\n",
       "      <td>27.000000</td>\n",
       "      <td>2.000000</td>\n",
       "      <td>4.000000</td>\n",
       "      <td>6.500000</td>\n",
       "      <td>5.000000</td>\n",
       "      <td>3.500000</td>\n",
       "      <td>1.000000</td>\n",
       "      <td>6.000000</td>\n",
       "    </tr>\n",
       "    <tr>\n",
       "      <th>75%</th>\n",
       "      <td>30.000000</td>\n",
       "      <td>3.000000</td>\n",
       "      <td>4.000000</td>\n",
       "      <td>7.000000</td>\n",
       "      <td>5.000000</td>\n",
       "      <td>5.000000</td>\n",
       "      <td>2.250000</td>\n",
       "      <td>7.000000</td>\n",
       "    </tr>\n",
       "    <tr>\n",
       "      <th>max</th>\n",
       "      <td>35.000000</td>\n",
       "      <td>7.000000</td>\n",
       "      <td>6.000000</td>\n",
       "      <td>7.000000</td>\n",
       "      <td>7.000000</td>\n",
       "      <td>7.000000</td>\n",
       "      <td>6.000000</td>\n",
       "      <td>7.000000</td>\n",
       "    </tr>\n",
       "  </tbody>\n",
       "</table>\n",
       "</div>"
      ],
      "text/plain": [
       "             age  Mutual_Funds  Equity_Market  Debentures  Government_Bonds  \\\n",
       "count  40.000000     40.000000      40.000000   40.000000         40.000000   \n",
       "mean   27.800000      2.550000       3.475000    5.750000          4.650000   \n",
       "std     3.560467      1.197219       1.131994    1.675617          1.369072   \n",
       "min    21.000000      1.000000       1.000000    1.000000          1.000000   \n",
       "25%    25.750000      2.000000       3.000000    5.000000          4.000000   \n",
       "50%    27.000000      2.000000       4.000000    6.500000          5.000000   \n",
       "75%    30.000000      3.000000       4.000000    7.000000          5.000000   \n",
       "max    35.000000      7.000000       6.000000    7.000000          7.000000   \n",
       "\n",
       "       Fixed_Deposits        PPF       Gold  \n",
       "count       40.000000  40.000000  40.000000  \n",
       "mean         3.575000   2.025000   5.975000  \n",
       "std          1.795828   1.609069   1.143263  \n",
       "min          1.000000   1.000000   2.000000  \n",
       "25%          2.750000   1.000000   6.000000  \n",
       "50%          3.500000   1.000000   6.000000  \n",
       "75%          5.000000   2.250000   7.000000  \n",
       "max          7.000000   6.000000   7.000000  "
      ]
     },
     "execution_count": 27,
     "metadata": {},
     "output_type": "execute_result"
    }
   ],
   "source": [
    "#Calculations: Use statistical functions (e.g., mean(), median(), std()) to calculate the mean, median, and standard deviation for each numerical column.\n",
    "df.describe()"
   ]
  },
  {
   "cell_type": "markdown",
   "id": "dc396c73-81e5-4674-a0d6-8dd931012a3c",
   "metadata": {},
   "source": [
    "# Task 4: Most Preferred Investment Avenue\n",
    "\n",
    "Objective: Identify the most preferred\n",
    "investment avenue."
   ]
  },
  {
   "cell_type": "code",
   "execution_count": 28,
   "id": "b4ebbfce-1c45-4e50-91f9-2cdbcf1e65e9",
   "metadata": {},
   "outputs": [
    {
     "data": {
      "text/plain": [
       "Investment_Avenues\n",
       "Yes    37\n",
       "No      3\n",
       "Name: count, dtype: int64"
      ]
     },
     "execution_count": 28,
     "metadata": {},
     "output_type": "execute_result"
    }
   ],
   "source": [
    "# Analyze Investment Avenues: Examine the column containing information about different investment avenues (e.g., equity, mutual funds).\n",
    "df['Investment_Avenues'].value_counts()\n",
    "#this will show how manuy people have chosen investement option (e.g., equity, mutual funds).\n"
   ]
  },
  {
   "cell_type": "code",
   "execution_count": 29,
   "id": "e4e69f0f-b0b8-455a-81cc-6a21d6aaab48",
   "metadata": {},
   "outputs": [
    {
     "name": "stdout",
     "output_type": "stream",
     "text": [
      "Index(['gender', 'age', 'Investment_Avenues', 'Mutual_Funds', 'Equity_Market',\n",
      "       'Debentures', 'Government_Bonds', 'Fixed_Deposits', 'PPF', 'Gold',\n",
      "       'Stock_Marktet', 'Factor', 'Objective', 'Purpose', 'Duration',\n",
      "       'Invest_Monitor', 'Expect', 'Avenue',\n",
      "       'What are your savings objectives?', 'Reason_Equity', 'Reason_Mutual',\n",
      "       'Reason_Bonds', 'Reason_FD', 'Source'],\n",
      "      dtype='object')\n"
     ]
    }
   ],
   "source": [
    "#got naming error so checked by using this \n",
    "print(df.columns)"
   ]
  },
  {
   "cell_type": "code",
   "execution_count": 30,
   "id": "0889f5c6-298f-4cb9-8fad-92aa9a03c8b7",
   "metadata": {},
   "outputs": [
    {
     "name": "stdout",
     "output_type": "stream",
     "text": [
      "Most preferred investment avenue: Yes\n"
     ]
    }
   ],
   "source": [
    "#frequency analysis\n",
    "#to see category with highest frequency we can use idxmax()\n",
    "most_preferred = df['Investment_Avenues'].value_counts().idxmax()\n",
    "print(\"Most preferred investment avenue:\", most_preferred )"
   ]
  },
  {
   "cell_type": "code",
   "execution_count": 31,
   "id": "f9fa1a02-99db-446d-8b56-cbbae74e37c3",
   "metadata": {},
   "outputs": [
    {
     "name": "stdout",
     "output_type": "stream",
     "text": [
      "Investment_Avenues\n",
      "Yes    37\n",
      "No      3\n",
      "Name: count, dtype: int64\n"
     ]
    }
   ],
   "source": [
    "print(df['Investment_Avenues'].value_counts())"
   ]
  },
  {
   "cell_type": "markdown",
   "id": "6c3d60cb-447a-4d9a-8d6b-10c304a11511",
   "metadata": {},
   "source": [
    "# Level 3\n",
    "# Task 5: Reasons for Investment\n",
    "\n",
    "Objective: Analyze and summarize reasons for investment choices."
   ]
  },
  {
   "cell_type": "code",
   "execution_count": 32,
   "id": "617b694f-f2d5-4a04-bf9e-d21c5bfffe12",
   "metadata": {},
   "outputs": [
    {
     "data": {
      "text/html": [
       "<div>\n",
       "<style scoped>\n",
       "    .dataframe tbody tr th:only-of-type {\n",
       "        vertical-align: middle;\n",
       "    }\n",
       "\n",
       "    .dataframe tbody tr th {\n",
       "        vertical-align: top;\n",
       "    }\n",
       "\n",
       "    .dataframe thead th {\n",
       "        text-align: right;\n",
       "    }\n",
       "</style>\n",
       "<table border=\"1\" class=\"dataframe\">\n",
       "  <thead>\n",
       "    <tr style=\"text-align: right;\">\n",
       "      <th></th>\n",
       "      <th>Reason_Equity</th>\n",
       "      <th>Reason_Mutual</th>\n",
       "      <th>Reason_Bonds</th>\n",
       "      <th>Reason_FD</th>\n",
       "    </tr>\n",
       "  </thead>\n",
       "  <tbody>\n",
       "    <tr>\n",
       "      <th>0</th>\n",
       "      <td>Capital Appreciation</td>\n",
       "      <td>Better Returns</td>\n",
       "      <td>Safe Investment</td>\n",
       "      <td>Fixed Returns</td>\n",
       "    </tr>\n",
       "    <tr>\n",
       "      <th>1</th>\n",
       "      <td>Dividend</td>\n",
       "      <td>Better Returns</td>\n",
       "      <td>Safe Investment</td>\n",
       "      <td>High Interest Rates</td>\n",
       "    </tr>\n",
       "    <tr>\n",
       "      <th>2</th>\n",
       "      <td>Capital Appreciation</td>\n",
       "      <td>Tax Benefits</td>\n",
       "      <td>Assured Returns</td>\n",
       "      <td>Fixed Returns</td>\n",
       "    </tr>\n",
       "    <tr>\n",
       "      <th>3</th>\n",
       "      <td>Dividend</td>\n",
       "      <td>Fund Diversification</td>\n",
       "      <td>Tax Incentives</td>\n",
       "      <td>High Interest Rates</td>\n",
       "    </tr>\n",
       "    <tr>\n",
       "      <th>4</th>\n",
       "      <td>Capital Appreciation</td>\n",
       "      <td>Better Returns</td>\n",
       "      <td>Safe Investment</td>\n",
       "      <td>Risk Free</td>\n",
       "    </tr>\n",
       "  </tbody>\n",
       "</table>\n",
       "</div>"
      ],
      "text/plain": [
       "          Reason_Equity         Reason_Mutual     Reason_Bonds  \\\n",
       "0  Capital Appreciation        Better Returns  Safe Investment   \n",
       "1              Dividend        Better Returns  Safe Investment   \n",
       "2  Capital Appreciation          Tax Benefits  Assured Returns   \n",
       "3              Dividend  Fund Diversification   Tax Incentives   \n",
       "4  Capital Appreciation        Better Returns  Safe Investment   \n",
       "\n",
       "             Reason_FD  \n",
       "0        Fixed Returns  \n",
       "1  High Interest Rates  \n",
       "2        Fixed Returns  \n",
       "3  High Interest Rates  \n",
       "4            Risk Free  "
      ]
     },
     "execution_count": 32,
     "metadata": {},
     "output_type": "execute_result"
    }
   ],
   "source": [
    "#Explore Reasons Column:\n",
    "#for this we can check first few rows 'reason_for_investment' \n",
    "df[['Reason_Equity', 'Reason_Mutual',\n",
    "       'Reason_Bonds', 'Reason_FD']].head()"
   ]
  },
  {
   "cell_type": "code",
   "execution_count": 33,
   "id": "9499b527-bcbd-40f7-9e5a-66be770ad6e7",
   "metadata": {},
   "outputs": [
    {
     "data": {
      "text/plain": [
       "Index(['gender', 'age', 'Investment_Avenues', 'Mutual_Funds', 'Equity_Market',\n",
       "       'Debentures', 'Government_Bonds', 'Fixed_Deposits', 'PPF', 'Gold',\n",
       "       'Stock_Marktet', 'Factor', 'Objective', 'Purpose', 'Duration',\n",
       "       'Invest_Monitor', 'Expect', 'Avenue',\n",
       "       'What are your savings objectives?', 'Reason_Equity', 'Reason_Mutual',\n",
       "       'Reason_Bonds', 'Reason_FD', 'Source'],\n",
       "      dtype='object')"
      ]
     },
     "execution_count": 33,
     "metadata": {},
     "output_type": "execute_result"
    }
   ],
   "source": [
    "df.columns"
   ]
  },
  {
   "cell_type": "code",
   "execution_count": 34,
   "id": "b2abafd9-6c5a-4cc9-b6b0-66e55ec70758",
   "metadata": {},
   "outputs": [
    {
     "data": {
      "text/plain": [
       "Reason_Equity\n",
       "Capital Appreciation    30\n",
       "Dividend                 8\n",
       "Liquidity                2\n",
       "Name: count, dtype: int64"
      ]
     },
     "execution_count": 34,
     "metadata": {},
     "output_type": "execute_result"
    }
   ],
   "source": [
    "df['Reason_Equity'].value_counts().head(5)"
   ]
  },
  {
   "cell_type": "code",
   "execution_count": 35,
   "id": "2e436f12-9354-4dbb-b870-14c665faf12a",
   "metadata": {},
   "outputs": [
    {
     "data": {
      "text/plain": [
       "Reason_Mutual\n",
       "Better Returns          24\n",
       "Fund Diversification    13\n",
       "Tax Benefits             3\n",
       "Name: count, dtype: int64"
      ]
     },
     "execution_count": 35,
     "metadata": {},
     "output_type": "execute_result"
    }
   ],
   "source": [
    "df['Reason_Mutual'].value_counts().head(5)"
   ]
  },
  {
   "cell_type": "code",
   "execution_count": 36,
   "id": "fc005d19-ce84-4ab7-9c49-a01c49567c4c",
   "metadata": {},
   "outputs": [
    {
     "data": {
      "text/plain": [
       "Reason_Bonds\n",
       "Assured Returns    26\n",
       "Safe Investment    13\n",
       "Tax Incentives      1\n",
       "Name: count, dtype: int64"
      ]
     },
     "execution_count": 36,
     "metadata": {},
     "output_type": "execute_result"
    }
   ],
   "source": [
    "\n",
    "df['Reason_Bonds'].value_counts().head(5)\n"
   ]
  },
  {
   "cell_type": "code",
   "execution_count": 37,
   "id": "1a39f528-d82c-4965-8ca8-434721082385",
   "metadata": {},
   "outputs": [
    {
     "data": {
      "text/plain": [
       "Reason_FD\n",
       "Risk Free              19\n",
       "Fixed Returns          18\n",
       "High Interest Rates     3\n",
       "Name: count, dtype: int64"
      ]
     },
     "execution_count": 37,
     "metadata": {},
     "output_type": "execute_result"
    }
   ],
   "source": [
    "\n",
    "df['Reason_FD'].value_counts().head(5)"
   ]
  },
  {
   "cell_type": "markdown",
   "id": "5c36c445-c034-465f-a838-c65a023dd9f6",
   "metadata": {},
   "source": [
    " # Task 6: Savings Objectives\n",
    "\n",
    "Objective: Identify and present main\n",
    "savings objectives."
   ]
  },
  {
   "cell_type": "code",
   "execution_count": 38,
   "id": "a6ef65f3-12d4-47c1-9ec7-5e79f9b985a2",
   "metadata": {},
   "outputs": [
    {
     "data": {
      "text/plain": [
       "0    Retirement Plan\n",
       "1        Health Care\n",
       "2    Retirement Plan\n",
       "3    Retirement Plan\n",
       "4    Retirement Plan\n",
       "5    Retirement Plan\n",
       "6    Retirement Plan\n",
       "7    Retirement Plan\n",
       "8    Retirement Plan\n",
       "9    Retirement Plan\n",
       "Name: What are your savings objectives?, dtype: object"
      ]
     },
     "execution_count": 38,
     "metadata": {},
     "output_type": "execute_result"
    }
   ],
   "source": [
    "#Analyze Savings Objectives:\n",
    "df['What are your savings objectives?'].head(10)"
   ]
  },
  {
   "cell_type": "code",
   "execution_count": 39,
   "id": "de9758bc-00bb-477f-bcbd-1f4d1535bcd6",
   "metadata": {},
   "outputs": [
    {
     "data": {
      "text/plain": [
       "What are your savings objectives?\n",
       "Retirement Plan    24\n",
       "Health Care        13\n",
       "Education           3\n",
       "Name: count, dtype: int64"
      ]
     },
     "execution_count": 39,
     "metadata": {},
     "output_type": "execute_result"
    }
   ],
   "source": [
    "#List and Describe Objectives:\n",
    "df['What are your savings objectives?'].value_counts().head(10)"
   ]
  },
  {
   "cell_type": "markdown",
   "id": "4dd5a64a-a4ac-4c83-944f-7804ab4ed5ad",
   "metadata": {},
   "source": [
    "# Level 4\n",
    "\n",
    "# Task 7: Common Information Sources\n",
    "\n",
    "Objective: Analyze common sources participants\n",
    "rely on for investment information."
   ]
  },
  {
   "cell_type": "code",
   "execution_count": 40,
   "id": "69894893-7084-4bb7-a7e7-15c0c096f3fd",
   "metadata": {},
   "outputs": [
    {
     "data": {
      "text/plain": [
       "0    Newspapers and Magazines\n",
       "1       Financial Consultants\n",
       "2                  Television\n",
       "3                    Internet\n",
       "4                    Internet\n",
       "Name: Source, dtype: object"
      ]
     },
     "execution_count": 40,
     "metadata": {},
     "output_type": "execute_result"
    }
   ],
   "source": [
    "#Explore Information Sources Column\n",
    "df['Source'].head()\n"
   ]
  },
  {
   "cell_type": "code",
   "execution_count": 41,
   "id": "ba745f11-13db-4b5f-9722-05a96ab334f8",
   "metadata": {},
   "outputs": [
    {
     "data": {
      "text/plain": [
       "Source\n",
       "Financial Consultants       16\n",
       "Newspapers and Magazines    14\n",
       "Television                   6\n",
       "Internet                     4\n",
       "Name: count, dtype: int64"
      ]
     },
     "execution_count": 41,
     "metadata": {},
     "output_type": "execute_result"
    }
   ],
   "source": [
    "#Identify Common Sources\n",
    "df['Source'].value_counts().head(5)"
   ]
  },
  {
   "cell_type": "markdown",
   "id": "5dd4a90a-a37e-43de-8587-47b66a2e9ee2",
   "metadata": {},
   "source": [
    "# Task 8: Investment Duration\n",
    "\n",
    "Objective: Calculate the average investment\n",
    "duration."
   ]
  },
  {
   "cell_type": "code",
   "execution_count": 42,
   "id": "36f4438d-5c5c-4b93-a31c-fa508d5e1b2a",
   "metadata": {},
   "outputs": [
    {
     "data": {
      "text/plain": [
       "0            1-3 years\n",
       "1    More than 5 years\n",
       "2            3-5 years\n",
       "3     Less than 1 year\n",
       "4     Less than 1 year\n",
       "Name: Duration, dtype: object"
      ]
     },
     "execution_count": 42,
     "metadata": {},
     "output_type": "execute_result"
    }
   ],
   "source": [
    "#Analyze Investment Duration Column:\n",
    "df['Duration'].head()"
   ]
  },
  {
   "cell_type": "code",
   "execution_count": 43,
   "id": "8f5b8e14-487c-4c92-b505-85d6f88b352e",
   "metadata": {},
   "outputs": [
    {
     "data": {
      "text/plain": [
       "nan"
      ]
     },
     "execution_count": 43,
     "metadata": {},
     "output_type": "execute_result"
    }
   ],
   "source": [
    "#Calculate Average Duration\n",
    "df['Duration'] = pd.to_numeric(df['Duration'], errors='coerce')\n",
    "# Calculate average\n",
    "average_duration = df['Duration'].mean()\n",
    "average_duration\n"
   ]
  },
  {
   "cell_type": "code",
   "execution_count": 44,
   "id": "893bb17e-8fce-4fc5-9e7b-87d6d5428410",
   "metadata": {},
   "outputs": [
    {
     "name": "stdout",
     "output_type": "stream",
     "text": [
      "[nan]\n",
      "40\n",
      "nan\n"
     ]
    }
   ],
   "source": [
    "print(df['Duration'].unique())  # To see unique values in the column\n",
    "print(df['Duration'].isna().sum())  # Number of NaN values\n",
    "df['Duration'] = df['Duration'].fillna(df['Duration'].mean())  \n",
    "df = df.dropna(subset=['Duration'])\n",
    "average_duration = df['Duration'].mean()\n",
    "print(average_duration)\n",
    "\n",
    "\n",
    "\n"
   ]
  },
  {
   "cell_type": "markdown",
   "id": "98e2cc7b-27e7-41f3-b966-29688ca08b99",
   "metadata": {},
   "source": [
    "# Task 9: Expectations from Investments\n",
    "\n",
    "Objective: Summarize participants' expectations\n",
    "from investments.\n",
    "\n",
    "\n"
   ]
  },
  {
   "cell_type": "code",
   "execution_count": 61,
   "id": "6e3db75d-4f49-4250-8aa3-be5dd360f064",
   "metadata": {},
   "outputs": [
    {
     "ename": "AttributeError",
     "evalue": "'function' object has no attribute 'head'",
     "output_type": "error",
     "traceback": [
      "\u001b[1;31m---------------------------------------------------------------------------\u001b[0m",
      "\u001b[1;31mAttributeError\u001b[0m                            Traceback (most recent call last)",
      "Cell \u001b[1;32mIn[61], line 1\u001b[0m\n\u001b[1;32m----> 1\u001b[0m df[\u001b[38;5;124m'\u001b[39m\u001b[38;5;124mExpect\u001b[39m\u001b[38;5;124m'\u001b[39m]\u001b[38;5;241m.\u001b[39mvalue_counts\u001b[38;5;241m.\u001b[39mhead(\u001b[38;5;241m10\u001b[39m)\n",
      "\u001b[1;31mAttributeError\u001b[0m: 'function' object has no attribute 'head'"
     ]
    }
   ],
   "source": [
    "df['Expect'].value_counts.head(10)"
   ]
  },
  {
   "cell_type": "code",
   "execution_count": 53,
   "id": "c80855d8-c013-4d23-967e-bbb04e861353",
   "metadata": {},
   "outputs": [
    {
     "name": "stdout",
     "output_type": "stream",
     "text": [
      "<class 'pandas.core.series.Series'>\n"
     ]
    }
   ],
   "source": [
    "print(type(df['Expect']))"
   ]
  },
  {
   "cell_type": "code",
   "execution_count": 54,
   "id": "10361e3d-730f-4e06-8793-fa7ea58f57a2",
   "metadata": {},
   "outputs": [],
   "source": [
    "import pandas as pd"
   ]
  },
  {
   "cell_type": "code",
   "execution_count": 59,
   "id": "09201d9d-d13c-49fd-bb52-ad535f2e85c8",
   "metadata": {},
   "outputs": [
    {
     "name": "stdout",
     "output_type": "stream",
     "text": [
      "Series([], Name: Expect, dtype: object)\n"
     ]
    }
   ],
   "source": [
    "print(df['Expect'].head())\n"
   ]
  },
  {
   "cell_type": "markdown",
   "id": "66d08d39-121b-403a-9557-5b2f2e75cf88",
   "metadata": {},
   "source": [
    "# Task 10\n",
    " Correlation Analysis\n",
    "\n",
    "Objective: Explore potential correlations\n",
    "between factors.\n",
    "\n"
   ]
  },
  {
   "cell_type": "code",
   "execution_count": 65,
   "id": "59fd24c3-b76c-4d70-957a-25dc2bd89704",
   "metadata": {},
   "outputs": [
    {
     "data": {
      "text/html": [
       "<div>\n",
       "<style scoped>\n",
       "    .dataframe tbody tr th:only-of-type {\n",
       "        vertical-align: middle;\n",
       "    }\n",
       "\n",
       "    .dataframe tbody tr th {\n",
       "        vertical-align: top;\n",
       "    }\n",
       "\n",
       "    .dataframe thead th {\n",
       "        text-align: right;\n",
       "    }\n",
       "</style>\n",
       "<table border=\"1\" class=\"dataframe\">\n",
       "  <thead>\n",
       "    <tr style=\"text-align: right;\">\n",
       "      <th></th>\n",
       "      <th>age</th>\n",
       "      <th>Duration</th>\n",
       "    </tr>\n",
       "  </thead>\n",
       "  <tbody>\n",
       "    <tr>\n",
       "      <th>age</th>\n",
       "      <td>NaN</td>\n",
       "      <td>NaN</td>\n",
       "    </tr>\n",
       "    <tr>\n",
       "      <th>Duration</th>\n",
       "      <td>NaN</td>\n",
       "      <td>NaN</td>\n",
       "    </tr>\n",
       "  </tbody>\n",
       "</table>\n",
       "</div>"
      ],
      "text/plain": [
       "          age  Duration\n",
       "age       NaN       NaN\n",
       "Duration  NaN       NaN"
      ]
     },
     "execution_count": 65,
     "metadata": {},
     "output_type": "execute_result"
    }
   ],
   "source": [
    "\n",
    "# Selecting columns for correlation\n",
    "corr_columns = [ 'age', 'Duration']\n",
    "df_corr = df[corr_columns]\n",
    "\n",
    "# Convert to numeric\n",
    "df_corr = df_corr.apply(pd.to_numeric, errors='coerce')\n",
    "\n",
    "# Correlation matrix\n",
    "correlation = df_corr.corr()\n",
    "correlation\n",
    "\n"
   ]
  },
  {
   "cell_type": "code",
   "execution_count": 66,
   "id": "daa327b5-015e-4c73-b41a-d218a847fa5f",
   "metadata": {},
   "outputs": [
    {
     "name": "stderr",
     "output_type": "stream",
     "text": [
      "C:\\Users\\Lenovo\\anaconda3\\Lib\\site-packages\\seaborn\\matrix.py:202: RuntimeWarning: All-NaN slice encountered\n",
      "  vmin = np.nanmin(calc_data)\n",
      "C:\\Users\\Lenovo\\anaconda3\\Lib\\site-packages\\seaborn\\matrix.py:207: RuntimeWarning: All-NaN slice encountered\n",
      "  vmax = np.nanmax(calc_data)\n"
     ]
    },
    {
     "data": {
      "image/png": "[encoded data removed]",
      "text/plain": [
       "<Figure size 600x400 with 2 Axes>"
      ]
     },
     "metadata": {},
     "output_type": "display_data"
    }
   ],
   "source": [
    "#Use Statistical Methods or Visualizations\n",
    "import seaborn as sns\n",
    "import matplotlib.pyplot as plt\n",
    "\n",
    "plt.figure(figsize=(6,4))\n",
    "sns.heatmap(correlation, annot=True, cmap='coolwarm')\n",
    "plt.title('Correlation Heatmap')\n",
    "plt.show()\n"
   ]
  },
  {
   "cell_type": "code",
   "execution_count": null,
   "id": "1d48add5-2db1-4cf7-b412-0e8accf19ccc",
   "metadata": {},
   "outputs": [],
   "source": []
  }
 ],
 "metadata": {
  "kernelspec": {
   "display_name": "Python 3 (ipykernel)",
   "language": "python",
   "name": "python3"
  },
  "language_info": {
   "codemirror_mode": {
    "name": "ipython",
    "version": 3
   },
   "file_extension": ".py",
   "mimetype": "text/x-python",
   "name": "python",
   "nbconvert_exporter": "python",
   "pygments_lexer": "ipython3",
   "version": "3.12.7"
  }
 },
 "nbformat": 4,
 "nbformat_minor": 5
}
